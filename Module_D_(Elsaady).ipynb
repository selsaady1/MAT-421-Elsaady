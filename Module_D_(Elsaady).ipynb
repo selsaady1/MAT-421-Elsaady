{
  "nbformat": 4,
  "nbformat_minor": 0,
  "metadata": {
    "colab": {
      "provenance": [],
      "authorship_tag": "ABX9TyM/sf+kwhekTjg/w3NREgwj",
      "include_colab_link": true
    },
    "kernelspec": {
      "name": "python3",
      "display_name": "Python 3"
    },
    "language_info": {
      "name": "python"
    }
  },
  "cells": [
    {
      "cell_type": "markdown",
      "metadata": {
        "id": "view-in-github",
        "colab_type": "text"
      },
      "source": [
        "<a href=\"https://colab.research.google.com/github/selsaady1/MAT-421-Elsaady/blob/main/Module_D_(Elsaady).ipynb\" target=\"_parent\"><img src=\"https://colab.research.google.com/assets/colab-badge.svg\" alt=\"Open In Colab\"/></a>"
      ]
    },
    {
      "cell_type": "code",
      "execution_count": null,
      "metadata": {
        "id": "saEs43NNsNud"
      },
      "outputs": [],
      "source": [
        "## Module D, Linear Equations and Regression\n",
        "## Saif Elsaady\n",
        "## MAT 421, Febuary 12 2023"
      ]
    },
    {
      "cell_type": "code",
      "source": [
        "## 1.1 Introduction"
      ],
      "metadata": {
        "id": "smBlr-3LttX_"
      },
      "execution_count": null,
      "outputs": []
    },
    {
      "cell_type": "markdown",
      "source": [
        "In many different disciplines, linear algebra is a branch of mathematics that is extensively used. In data science as well as machine learning, linear algebra is crucial. Numerous data science as well as machine learning methodologies can be better understood with a firm grasp of linear algebraic concepts.\n",
        "\n",
        "Sets - A set is a collection of objects {}\n",
        "\n",
        "Union - A U B - A set including all elements of A and B\n",
        "\n",
        "Intersect - A n B - A set including all elements that belong to A & B\n",
        "\n",
        "Naturals - N = {1,2,3,4,..}\n",
        "\n",
        "Wholes - W = N U {0}\n",
        "\n",
        "Integers - Z = W U {-1,-2,-3,...}\n",
        "\n",
        "Rationals - Q = { p/g : p ∊ Z , q ∊ Z \\ {0}}\n",
        "\n",
        "Irrationals - I = A set of real numbers that are not expressible as fractions of integers\n",
        "\n",
        "Reals - R = Q U I\n",
        "\n",
        "Complex Numbers - C = {a + bi: a, b ∊ R, i = sqrt(-1) }"
      ],
      "metadata": {
        "id": "Hfwj7173vhcn"
      }
    },
    {
      "cell_type": "markdown",
      "source": [
        "A vector is a point in a particular area, or a tuple (RN as n tuple). A column vector is written vertically, while a row vector is written horizontally. The vector in Rn with all zeros is known as the zero vector. A vector's length can be determined by looking at its norm. Every component of the added vectors is added pairwise to form the vector addition. The product of the relevant elements in each vector is added to form the dot product of two vectors. Any object in a group is said to be linearly independent if it cannot be expressed as a linear combination of all the other things in the set.\n",
        "\n",
        "In the example below we write a vector as a linear combination of another vector.\n",
        "\n",
        "Given the row vectors v=[0,0,2], w=[4,-1,0], and u=[0,2,0], write the vector x=[-4,3,2] as a linear combination of v, w, and u."
      ],
      "metadata": {
        "id": "aMduvZKkxIme"
      }
    },
    {
      "cell_type": "code",
      "source": [
        "import numpy as np\n",
        "from numpy import arccos, dot\n",
        "v = np.array([[0,0,2]])\n",
        "w = np.array([[4,-1,0]])\n",
        "u = np.array([[0,2,0]])\n",
        "x = 1*v-1*w+1*u\n",
        "print(x)"
      ],
      "metadata": {
        "colab": {
          "base_uri": "https://localhost:8080/"
        },
        "id": "rSDeFLnV0QkO",
        "outputId": "eef7f99f-b42f-4c65-bca5-432de8bf5466"
      },
      "execution_count": null,
      "outputs": [
        {
          "output_type": "stream",
          "name": "stdout",
          "text": [
            "[[-4  3  2]]\n"
          ]
        }
      ]
    },
    {
      "cell_type": "markdown",
      "source": [
        "A rectangular table of integers with m rows and n columns is called a \"m-n matrix.\" The Python dot method in Numpy is used to generate the product of two matrices P and Q. A matrix is transposed when its rows and columns are reversed. A square matrix is a nn matrix, meaning that its rows and columns are equal in number. An essential characteristic of square matrices is the determinant. A square matrix with ones on the diagonal as well as zeros everywhere else is the identity matrix.\n",
        "\n",
        "In the example below we find the determinant of a matrix and verify it.\n",
        "\n",
        "Use Python to find the determinant of the matrix M=[[2,2,5,3],[3,2,4,1],[1,0,0,3],[0,4,3,2]]\n"
      ],
      "metadata": {
        "id": "tfp9b2sM2ccn"
      }
    },
    {
      "cell_type": "code",
      "source": [
        "from numpy.linalg import det\n",
        "\n",
        "M = np.array([[2,2,5,3],\n",
        "              [3,2,4,1],\n",
        "              [1,0,0,3],\n",
        "              [0,4,3,2]])\n",
        "print('M:\\n', M)\n",
        "\n",
        "print('Determinant: %.1f'%det(M))\n",
        "I = np.eye(4)\n",
        "print('I:\\n', I)\n",
        "print('M*I:\\n', np.dot(M, I))"
      ],
      "metadata": {
        "colab": {
          "base_uri": "https://localhost:8080/"
        },
        "id": "zzN6YVoA2tce",
        "outputId": "e08e8e3d-a0c3-4e6e-87bb-6bd534953a47"
      },
      "execution_count": null,
      "outputs": [
        {
          "output_type": "stream",
          "name": "stdout",
          "text": [
            "M:\n",
            " [[2 2 5 3]\n",
            " [3 2 4 1]\n",
            " [1 0 0 3]\n",
            " [0 4 3 2]]\n",
            "Determinant: -86.0\n",
            "I:\n",
            " [[1. 0. 0. 0.]\n",
            " [0. 1. 0. 0.]\n",
            " [0. 0. 1. 0.]\n",
            " [0. 0. 0. 1.]]\n",
            "M*I:\n",
            " [[2. 2. 5. 3.]\n",
            " [3. 2. 4. 1.]\n",
            " [1. 0. 0. 3.]\n",
            " [0. 4. 3. 2.]]\n"
          ]
        }
      ]
    },
    {
      "cell_type": "code",
      "source": [
        "## 1.2 Elements of Linear Algebra"
      ],
      "metadata": {
        "id": "eB2llDVftthu"
      },
      "execution_count": null,
      "outputs": []
    },
    {
      "cell_type": "markdown",
      "source": [
        "A new vector is created from a subset in linear algebra by multiplying each vector by a factor and then adding the results. The outcome of linear combination is a linear subspace. A subset U V that is closed under scalar as well as vector multiplication is known as the linear subspace (of V).\n",
        "\n",
        "An example of solving for the corss product is shown below:\n",
        "\n",
        "Find the cross product of (1 2 3) x (5 3 2):\n",
        "\n",
        "=![image.png](data:image/png;base64,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)"
      ],
      "metadata": {
        "id": "yuFcU0ZR4WWP"
      }
    },
    {
      "cell_type": "code",
      "source": [
        "import numpy as np\n",
        "x = np.array([[1, 2, 3]])\n",
        "z = np.array([[5, 3, 2]])\n",
        "print(np.cross(x, z)) #cross product throught python and we confirm we get the same answer."
      ],
      "metadata": {
        "colab": {
          "base_uri": "https://localhost:8080/"
        },
        "id": "jwGZ_3p06z-O",
        "outputId": "b8008ea9-52bf-4f7f-f667-f8272987f2ab"
      },
      "execution_count": null,
      "outputs": [
        {
          "output_type": "stream",
          "name": "stdout",
          "text": [
            "[[-5 13 -7]]\n"
          ]
        }
      ]
    },
    {
      "cell_type": "markdown",
      "source": [
        "Column Space: Assume that A(nxm) is a nxm matrix with the following columns: a1,..., am. The length of A's columns is known as its column space, indicated by the symbol col(A).\n",
        "\n",
        "A list of column vectors u1,..., um is said to be linearly independent when none of them can be expressed as linear combinations of one another.\n",
        "\n",
        "Let U be a linear subspace of V in the dimension theorem. There are always the identical number of elements in any foundation of U. The length & number of elements are the same for all bases of U. (U).\n",
        "\n",
        "If all of the u's are pairwise orthogonal and have a norm of 1, then a list of vectors u1,..., um is said to be orthonormal.\n",
        "\n",
        "Let U V be a linear subspace having orthonormal basis q1,..., qm. This is known as an orthogonal projection. When v V is projected onto U, the orthogonal projection is Pu v = sum(j=1) v, qj > qj.\n",
        "\n",
        "Suppose U V be a linear subspace with orthonormal basis q1,..., qm, and let v V. This represents the best approximation theorem. ||v-Pu v|| = ||v-u|| for any u > U.\n",
        "\n",
        "Let u1 v V be orthogonal according to the Pythagorean Theorem. It is evident that ||u||2 + ||v||2 equals ||u + v||2.\n",
        "\n",
        "Cauchy-Schwarz: Including all u1 v V, |u,v>| = |u|| |v||\n",
        "\n",
        "Let a1,...,am in Rn be linearly independent (Gram-Schmidt). Then, an orthonormal basis, q1,...,qm of span, exists (a1,...,am).\n",
        "\n",
        "Let A R(dxd) be a square matrix to discuss eigenvalues and eigenvectors. If x!= 0 is a non-zero vector such that Ax = x, then R is an eigenvalue of A. An eigenvector is vector x."
      ],
      "metadata": {
        "id": "qCvqe3E76_kO"
      }
    },
    {
      "cell_type": "markdown",
      "source": [
        "In this example python programming is used to find the Eigenvector and eigenvalue.\n",
        "\n"
      ],
      "metadata": {
        "id": "MsU6z4li9DFe"
      }
    },
    {
      "cell_type": "code",
      "source": [
        "import numpy as np\n",
        "from numpy.linalg import eig\n",
        "x = np.array([ [3, 3, 5], [4, 6, 5] , [5, 6, 2]])\n",
        "w,v = eig(x)\n",
        "print('E-value:', w)\n",
        "print('E-vector', v)"
      ],
      "metadata": {
        "colab": {
          "base_uri": "https://localhost:8080/"
        },
        "id": "HgV_yHxX9CnG",
        "outputId": "e208cea1-ea2d-4b47-8d5d-bf3a0b685457"
      },
      "execution_count": null,
      "outputs": [
        {
          "output_type": "stream",
          "name": "stdout",
          "text": [
            "E-value: [13.164414  0.835586 -3.      ]\n",
            "E-vector [[-0.47813671 -0.76138656 -0.57062689]\n",
            " [-0.66629777  0.64571311 -0.19020896]\n",
            " [-0.57221724 -0.05783672  0.79887765]]\n"
          ]
        }
      ]
    },
    {
      "cell_type": "code",
      "source": [
        "## 1.3 Linear Regression"
      ],
      "metadata": {
        "id": "ydblnasXttuu"
      },
      "execution_count": null,
      "outputs": []
    },
    {
      "cell_type": "markdown",
      "source": [
        "Given its simplicity,, linear regression is commonly applied in real-world settings. The models are simpler to fit than those whose unknown parameters are connected to them non-linearly since they depend linearly on them.QTQ = I is a restatement of the statement that Q has orthonormal columns. Q in particular has a left inverse, which is QT. Whatever m and n are, the equation R = QTA is valid. Whether or not the matrix is square is unimportant."
      ],
      "metadata": {
        "id": "gxRteaSD_qg2"
      }
    },
    {
      "cell_type": "code",
      "source": [
        "# The following code below computes the QR decomposition. \n",
        "import numpy as np\n",
        "from numpy.linalg import qr\n",
        "x = np.array([[3, 2], [3, 1]])\n",
        "\n",
        "Q,R = qr(x)\n",
        "print('Q:', Q)\n",
        "print('R:', R)\n",
        "\n",
        "z = np.dot(Q, R)\n",
        "print('QR:', z)"
      ],
      "metadata": {
        "colab": {
          "base_uri": "https://localhost:8080/"
        },
        "id": "NfM0r0iUBHyN",
        "outputId": "6bc30114-48f2-44a7-9cd8-0ec62dcc57d2"
      },
      "execution_count": null,
      "outputs": [
        {
          "output_type": "stream",
          "name": "stdout",
          "text": [
            "Q: [[-0.70710678 -0.70710678]\n",
            " [-0.70710678  0.70710678]]\n",
            "R: [[-4.24264069 -2.12132034]\n",
            " [ 0.         -0.70710678]]\n",
            "QR: [[3. 2.]\n",
            " [3. 1.]]\n"
          ]
        }
      ]
    },
    {
      "cell_type": "markdown",
      "source": [
        "Normal Equations - Assume that b is a vector and that A is a nxm matrix with linearly independent columns. The normal equations, AT Ax = AT b, are satisfied by the solution here to the least-squares problem min||Ax-b||.\n",
        "\n",
        "A = QR is a QR decomposition of A where Q is a R(nxm) matrix with QT Q = I(mxm) and T is an upper triangle. Let A R(nxm) be a nxm matrix with a linearly independent column, allow b Rn be a vector, and then let b Rn be the vector in the least squares using QR method."
      ],
      "metadata": {
        "id": "VadbtFLoCi02"
      }
    },
    {
      "cell_type": "code",
      "source": [],
      "metadata": {
        "id": "byXi-9rjDFym"
      },
      "execution_count": null,
      "outputs": []
    }
  ]
}