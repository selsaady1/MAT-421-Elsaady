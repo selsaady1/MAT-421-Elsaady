{
  "nbformat": 4,
  "nbformat_minor": 0,
  "metadata": {
    "colab": {
      "provenance": [],
      "authorship_tag": "ABX9TyPAaRKvNbRrz8Prhv9GmW6p",
      "include_colab_link": true
    },
    "kernelspec": {
      "name": "python3",
      "display_name": "Python 3"
    },
    "language_info": {
      "name": "python"
    }
  },
  "cells": [
    {
      "cell_type": "markdown",
      "metadata": {
        "id": "view-in-github",
        "colab_type": "text"
      },
      "source": [
        "<a href=\"https://colab.research.google.com/github/selsaady1/MAT-421-Elsaady/blob/main/Module_A_(Elsaady).ipynb\" target=\"_parent\"><img src=\"https://colab.research.google.com/assets/colab-badge.svg\" alt=\"Open In Colab\"/></a>"
      ]
    },
    {
      "cell_type": "code",
      "execution_count": 1,
      "metadata": {
        "id": "mSE596o0PPf8"
      },
      "outputs": [],
      "source": [
        "## Module A, Chapter 9 Representation of Numbers\n",
        "## Saif Elsaady\n",
        "## MAT 421, January 15 2023"
      ]
    },
    {
      "cell_type": "code",
      "source": [
        "## 9.1 Base-N and Binary\n"
      ],
      "metadata": {
        "id": "lS7JNn5ISdTq"
      },
      "execution_count": 2,
      "outputs": []
    },
    {
      "cell_type": "markdown",
      "source": [
        "Binary numbers (or base2) are very important representations of numbers in computers. Binary digits are only 0 and 1. I have three example problems below:"
      ],
      "metadata": {
        "id": "hcWyXctYWGkK"
      }
    },
    {
      "cell_type": "markdown",
      "source": [
        "In PROBLEM 1, we will convert a regular number to a binary number using python programming.\n",
        "\n",
        "1.) 35(base 10) "
      ],
      "metadata": {
        "id": "Kem0goYSYWAn"
      }
    },
    {
      "cell_type": "code",
      "source": [
        "bin(35) ##the code bin(35) returns the binary expression of 35"
      ],
      "metadata": {
        "colab": {
          "base_uri": "https://localhost:8080/",
          "height": 35
        },
        "id": "uUOVcgvjYqv_",
        "outputId": "7181aeb0-72a9-4331-b9f7-80ff94617945"
      },
      "execution_count": 3,
      "outputs": [
        {
          "output_type": "execute_result",
          "data": {
            "text/plain": [
              "'0b100011'"
            ],
            "application/vnd.google.colaboratory.intrinsic+json": {
              "type": "string"
            }
          },
          "metadata": {},
          "execution_count": 3
        }
      ]
    },
    {
      "cell_type": "markdown",
      "source": [
        "As shown above, we can see the number 35 has been converted to a binary number of 100011."
      ],
      "metadata": {
        "id": "b1L8DOVFZjl8"
      }
    },
    {
      "cell_type": "markdown",
      "source": [
        "In PROBLEM 2, we will convert another regular number to a binary number using python programming.\n",
        "\n",
        "2.) 27(base 10)"
      ],
      "metadata": {
        "id": "bLDw23Z_aReA"
      }
    },
    {
      "cell_type": "code",
      "source": [
        "bin(27) ##the code bin(27) returns the binary expression of 27"
      ],
      "metadata": {
        "colab": {
          "base_uri": "https://localhost:8080/",
          "height": 35
        },
        "id": "DNv1mRDsa6jh",
        "outputId": "a9a8c8a1-3baa-4baf-c529-1de2f5df8e18"
      },
      "execution_count": 4,
      "outputs": [
        {
          "output_type": "execute_result",
          "data": {
            "text/plain": [
              "'0b11011'"
            ],
            "application/vnd.google.colaboratory.intrinsic+json": {
              "type": "string"
            }
          },
          "metadata": {},
          "execution_count": 4
        }
      ]
    },
    {
      "cell_type": "markdown",
      "source": [
        "As shown above, we can see the number 27 has been converted to a binary number of 11011."
      ],
      "metadata": {
        "id": "nRQmRKfebKYm"
      }
    },
    {
      "cell_type": "markdown",
      "source": [
        "In PROBLEM 3, we will convert the numbers 12 and 14 into binary numbers then add & multiply the results using python programming.\n",
        "\n",
        "3.) Convert the 12 and 14 into binary numbers then add & multiply them."
      ],
      "metadata": {
        "id": "3NHwHAvIbtHW"
      }
    },
    {
      "cell_type": "code",
      "source": [
        "##ADDING\n",
        "bin(12) #here we convert 12 to a binary number\n",
        "bin(14) #here we convert 14 to a binary number\n",
        "x = 0b1100; #x is initiallized as a binary of 12\n",
        "y = 0b1110; #y is initiallized as a binary of 14\n",
        "i = x + y; #i is x + y, or the binary numbers added\n",
        "print(f\"{i:b}\") ##printing the addition result"
      ],
      "metadata": {
        "colab": {
          "base_uri": "https://localhost:8080/"
        },
        "id": "f0wE_136bN5T",
        "outputId": "98aca348-3a92-4669-ac6d-5c0841bc4edc"
      },
      "execution_count": 5,
      "outputs": [
        {
          "output_type": "stream",
          "name": "stdout",
          "text": [
            "11010\n"
          ]
        }
      ]
    },
    {
      "cell_type": "code",
      "source": [
        "##MULTIPLYING\n",
        "x = 0b1100; #x is initiallized as a binary of 12\n",
        "y = 0b1110; #y is initiallized as a binary of 14\n",
        "j = x * y; #j is x * y, or the binary numbers multiplied\n",
        "print(f\"{j:b}\") ##printing the product result"
      ],
      "metadata": {
        "colab": {
          "base_uri": "https://localhost:8080/"
        },
        "id": "7eUSy4Apd_XA",
        "outputId": "51c404cf-8277-48aa-9c28-33849b3278de"
      },
      "execution_count": 6,
      "outputs": [
        {
          "output_type": "stream",
          "name": "stdout",
          "text": [
            "10101000\n"
          ]
        }
      ]
    },
    {
      "cell_type": "markdown",
      "source": [
        "As shown above the numbers 12 and 14 were converted into binary numbers, then the sum and product of 12&14 was computed."
      ],
      "metadata": {
        "id": "WtFcrSfrhZu5"
      }
    },
    {
      "cell_type": "code",
      "source": [
        "## 9.2 Floating Point Numbers"
      ],
      "metadata": {
        "id": "jCS4VFBNhqkr"
      },
      "execution_count": 7,
      "outputs": []
    },
    {
      "cell_type": "markdown",
      "source": [
        "In order to handle bigger and smaller numbers more effectively while maintaining the standard 64-bit precision that Python uses, floating points are used.\n",
        "\n",
        "As the values of the two numbers rise, so does the distance between them. Python would then assign the value the number that it is nearest to in the gap if the defined value falls inside this range."
      ],
      "metadata": {
        "id": "qoevuIEjwtFJ"
      }
    },
    {
      "cell_type": "markdown",
      "source": [
        "Floating point numbers are used to represent real numbers in python and are written with a decimal point that divide the interger & fraction components. They are seperated with 1 bit for a sign indicator, 11 bits for an exponent and 52 bits for a fraction. The python code below gives important information on float:"
      ],
      "metadata": {
        "id": "i4hQdVgdjpg7"
      }
    },
    {
      "cell_type": "code",
      "source": [
        "import sys\n",
        "sys.float_info"
      ],
      "metadata": {
        "colab": {
          "base_uri": "https://localhost:8080/"
        },
        "id": "646jTf6qkTMw",
        "outputId": "37a1c63a-4058-482e-ad0c-e5eeffa66338"
      },
      "execution_count": 8,
      "outputs": [
        {
          "output_type": "execute_result",
          "data": {
            "text/plain": [
              "sys.float_info(max=1.7976931348623157e+308, max_exp=1024, max_10_exp=308, min=2.2250738585072014e-308, min_exp=-1021, min_10_exp=-307, dig=15, mant_dig=53, epsilon=2.220446049250313e-16, radix=2, rounds=1)"
            ]
          },
          "metadata": {},
          "execution_count": 8
        }
      ]
    },
    {
      "cell_type": "markdown",
      "source": [
        "In PROBLEM 1, the spacing function is used to determine the gap at 1e8."
      ],
      "metadata": {
        "id": "DGDbFy8vkdKd"
      }
    },
    {
      "cell_type": "markdown",
      "source": [
        "1.) Prove/Verify that adding a number to 1e8 that is less than 1/2 the gap at 1e8 gives the same value."
      ],
      "metadata": {
        "id": "u-MHHBAvxWpq"
      }
    },
    {
      "cell_type": "code",
      "source": [
        "import numpy as np #importing library\n",
        "np.spacing(1e8) #the size of the gap at 1e8\n",
        "1e8 == (1e8 + np.spacing(1e8)/3) #the value on the right hand side of the expression is between the value and the gap. Therefore prints true."
      ],
      "metadata": {
        "colab": {
          "base_uri": "https://localhost:8080/"
        },
        "id": "ZKRoXW7NxUFs",
        "outputId": "5d2e43bb-79e9-4f19-d539-3ec189eee7c7"
      },
      "execution_count": 9,
      "outputs": [
        {
          "output_type": "execute_result",
          "data": {
            "text/plain": [
              "True"
            ]
          },
          "metadata": {},
          "execution_count": 9
        }
      ]
    },
    {
      "cell_type": "markdown",
      "source": [
        "In PROBLEM 2, a floating point number with an example of an overflow & underflow is provided. \n",
        "\n",
        "2.) Provide a floating point number that results in an underflow and another that results in an overflow."
      ],
      "metadata": {
        "id": "WJOZ6AC4yJxg"
      }
    },
    {
      "cell_type": "code",
      "source": [
        "1.87e409 ##overflow floating value example"
      ],
      "metadata": {
        "colab": {
          "base_uri": "https://localhost:8080/"
        },
        "id": "fiXfQWO2xw2S",
        "outputId": "a4137c46-2972-4a9f-95e5-fb9a18cbaad8"
      },
      "execution_count": 10,
      "outputs": [
        {
          "output_type": "execute_result",
          "data": {
            "text/plain": [
              "inf"
            ]
          },
          "metadata": {},
          "execution_count": 10
        }
      ]
    },
    {
      "cell_type": "code",
      "source": [
        "4**(-9000) ##underflow floating value example"
      ],
      "metadata": {
        "colab": {
          "base_uri": "https://localhost:8080/"
        },
        "id": "S54WuiIZyeiw",
        "outputId": "8cac1e14-d338-4f07-bf9d-8576f49543ce"
      },
      "execution_count": 11,
      "outputs": [
        {
          "output_type": "execute_result",
          "data": {
            "text/plain": [
              "0.0"
            ]
          },
          "metadata": {},
          "execution_count": 11
        }
      ]
    },
    {
      "cell_type": "markdown",
      "source": [
        "In PROBLEM 3, another example of a floating point number with an example of an overflow & underflow is provided. \n",
        "\n",
        "3.) Provide another example of a floating point number that results in an underflow and another that results in an overflow."
      ],
      "metadata": {
        "id": "aXiE_pkxy9kS"
      }
    },
    {
      "cell_type": "code",
      "source": [
        "1.77e419 ##overflow floating value example"
      ],
      "metadata": {
        "colab": {
          "base_uri": "https://localhost:8080/"
        },
        "id": "SGPItWZzzZ3H",
        "outputId": "8a2ed7c3-2ba0-47ed-e815-ce1ff2eb9bc7"
      },
      "execution_count": 12,
      "outputs": [
        {
          "output_type": "execute_result",
          "data": {
            "text/plain": [
              "inf"
            ]
          },
          "metadata": {},
          "execution_count": 12
        }
      ]
    },
    {
      "cell_type": "code",
      "source": [
        "9**(-6000) ##underflow floating value example"
      ],
      "metadata": {
        "colab": {
          "base_uri": "https://localhost:8080/"
        },
        "id": "Qx-t7yo4zeSH",
        "outputId": "63783f53-398a-401b-9162-5dad0c5c37aa"
      },
      "execution_count": 13,
      "outputs": [
        {
          "output_type": "execute_result",
          "data": {
            "text/plain": [
              "0.0"
            ]
          },
          "metadata": {},
          "execution_count": 13
        }
      ]
    },
    {
      "cell_type": "code",
      "source": [
        "# 9.4 Round-off Errors"
      ],
      "metadata": {
        "id": "Ac2lK-gUznz9"
      },
      "execution_count": 14,
      "outputs": []
    },
    {
      "cell_type": "markdown",
      "source": [
        "A round off error is the difference betweeen an estimate of a value used in computational programming. A truncation error is an error made by truncating an inifite sum by approxmating it through a finite sum. A roundoff error occurs because a floatuing point value cannot be stored with 100% accuracy. A representation error is a roundoff error in floating point numbers."
      ],
      "metadata": {
        "id": "bt22DDiy1hlZ"
      }
    },
    {
      "cell_type": "markdown",
      "source": [
        "In PROBLEM 1, an example of a roundoff error calculation in python is given as well as the verification for it.\n",
        "\n",
        "1.) Provide an example of a roundoff error in python programming and verify that it is a true statement using the round function"
      ],
      "metadata": {
        "id": "GPW_HmMV3pwR"
      }
    },
    {
      "cell_type": "code",
      "source": [
        "3.5 - 3.47 == 0.03 #round off error"
      ],
      "metadata": {
        "colab": {
          "base_uri": "https://localhost:8080/"
        },
        "id": "VxnHZxDt7bYY",
        "outputId": "7427ed8d-fb86-46f4-f203-fa7bf8f24e93"
      },
      "execution_count": 15,
      "outputs": [
        {
          "output_type": "execute_result",
          "data": {
            "text/plain": [
              "False"
            ]
          },
          "metadata": {},
          "execution_count": 15
        }
      ]
    },
    {
      "cell_type": "code",
      "source": [
        "3.5 - 3.47 # calculation confirming the error"
      ],
      "metadata": {
        "colab": {
          "base_uri": "https://localhost:8080/"
        },
        "id": "MdqD6ul67iCz",
        "outputId": "45d31ce7-ca65-444c-a6be-589a7fa1bd96"
      },
      "execution_count": 16,
      "outputs": [
        {
          "output_type": "execute_result",
          "data": {
            "text/plain": [
              "0.029999999999999805"
            ]
          },
          "metadata": {},
          "execution_count": 16
        }
      ]
    },
    {
      "cell_type": "code",
      "source": [
        "round(3.5-3.47, 5) == round(0.03, 5) #uses the round function verfying it as a true statement"
      ],
      "metadata": {
        "colab": {
          "base_uri": "https://localhost:8080/"
        },
        "id": "3rN-IhgD7riw",
        "outputId": "aa7c9c5f-cfac-4c76-cea4-da82ed067a28"
      },
      "execution_count": 17,
      "outputs": [
        {
          "output_type": "execute_result",
          "data": {
            "text/plain": [
              "True"
            ]
          },
          "metadata": {},
          "execution_count": 17
        }
      ]
    },
    {
      "cell_type": "markdown",
      "source": [
        "In PROBLEM 2, an equation of 5 -1/7 + 1/7 is given, and a code is exectued to shown the errors accumulating. \n",
        "\n",
        "1.) Illustrate the number f iterations and round off error using the code below:"
      ],
      "metadata": {
        "id": "eRdqg_lH8CCu"
      }
    },
    {
      "cell_type": "code",
      "source": [
        "5 -1/7 + 1/7 #equation"
      ],
      "metadata": {
        "colab": {
          "base_uri": "https://localhost:8080/"
        },
        "id": "GAy0myC4-LsY",
        "outputId": "f25934b2-eaa9-4de2-cd37-45c163b0d603"
      },
      "execution_count": 18,
      "outputs": [
        {
          "output_type": "execute_result",
          "data": {
            "text/plain": [
              "5.0"
            ]
          },
          "metadata": {},
          "execution_count": 18
        }
      ]
    },
    {
      "cell_type": "code",
      "source": [
        "def add_and_subract(iterations): #function is defined\n",
        "  value = 5\n",
        "\n",
        "  for x in range(iterations): #for loop subracting the 1/7 the number of iterations\n",
        "    value -= (1/7)\n",
        "\n",
        "  for x in range(iterations): #for loop adding the 1/7 the number of iterations\n",
        "    value += (1/7)\n",
        "  return value #returning the final value"
      ],
      "metadata": {
        "id": "30yQxGm3-dqj"
      },
      "execution_count": 19,
      "outputs": []
    },
    {
      "cell_type": "code",
      "source": [
        "add_and_subract(100) # doing it 100 times"
      ],
      "metadata": {
        "colab": {
          "base_uri": "https://localhost:8080/"
        },
        "id": "K-QnsSh9-lfr",
        "outputId": "edfc9b1c-cb7d-4b43-ad00-9e383f0527b3"
      },
      "execution_count": 20,
      "outputs": [
        {
          "output_type": "execute_result",
          "data": {
            "text/plain": [
              "5.000000000000001"
            ]
          },
          "metadata": {},
          "execution_count": 20
        }
      ]
    },
    {
      "cell_type": "code",
      "source": [
        "add_and_subract(10000) # doing it 100 times"
      ],
      "metadata": {
        "colab": {
          "base_uri": "https://localhost:8080/"
        },
        "id": "zn8OKzJb_E34",
        "outputId": "86bd125e-c3bb-4200-cea6-082dd381e399"
      },
      "execution_count": 21,
      "outputs": [
        {
          "output_type": "execute_result",
          "data": {
            "text/plain": [
              "4.999999999999896"
            ]
          },
          "metadata": {},
          "execution_count": 21
        }
      ]
    },
    {
      "cell_type": "code",
      "source": [
        "add_and_subract(1000000) # doing it 100 times"
      ],
      "metadata": {
        "colab": {
          "base_uri": "https://localhost:8080/"
        },
        "id": "7eMheY0h_GMv",
        "outputId": "223bcddf-4e2e-4e01-8330-0a7aedcdb148"
      },
      "execution_count": 22,
      "outputs": [
        {
          "output_type": "execute_result",
          "data": {
            "text/plain": [
              "4.999999999993103"
            ]
          },
          "metadata": {},
          "execution_count": 22
        }
      ]
    },
    {
      "cell_type": "markdown",
      "source": [
        "**END OF MODULE A HOMEWORK**"
      ],
      "metadata": {
        "id": "K_CP9M6s_RnX"
      }
    },
    {
      "cell_type": "code",
      "source": [],
      "metadata": {
        "id": "nl7f9pd9mmSS"
      },
      "execution_count": 22,
      "outputs": []
    }
  ]
}