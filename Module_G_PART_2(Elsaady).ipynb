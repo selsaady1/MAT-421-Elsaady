{
  "nbformat": 4,
  "nbformat_minor": 0,
  "metadata": {
    "colab": {
      "provenance": [],
      "authorship_tag": "ABX9TyMQn8d6dOda1jq5ESzd979O",
      "include_colab_link": true
    },
    "kernelspec": {
      "name": "python3",
      "display_name": "Python 3"
    },
    "language_info": {
      "name": "python"
    }
  },
  "cells": [
    {
      "cell_type": "markdown",
      "metadata": {
        "id": "view-in-github",
        "colab_type": "text"
      },
      "source": [
        "<a href=\"https://colab.research.google.com/github/selsaady1/MAT-421-Elsaady/blob/main/Module_G_PART_2(Elsaady).ipynb\" target=\"_parent\"><img src=\"https://colab.research.google.com/assets/colab-badge.svg\" alt=\"Open In Colab\"/></a>"
      ]
    },
    {
      "cell_type": "code",
      "execution_count": null,
      "metadata": {
        "id": "nBYbA1zltliW"
      },
      "outputs": [],
      "source": [
        "## Module G PART 2, Chapter 21 Numerical Integration\n",
        "## Saif Elsaady\n",
        "## MAT 421, March 26 2023"
      ]
    },
    {
      "cell_type": "code",
      "source": [
        "## 21.4 Simpson’s Rule"
      ],
      "metadata": {
        "id": "GzLESRfctt6d"
      },
      "execution_count": null,
      "outputs": []
    },
    {
      "cell_type": "markdown",
      "source": [
        "Think of the subintervals [xi1,xi] and [xi,xi+1] as 2 consecutive intervals. Through adapting a quadratic polynomial from over points (xi1,f(xi1)), (xi,f(xi)), & (xi+1,f(xi+1)), which results in a distinct polynomial, Simpson's Rule imitates the area underneath f(x) over such two subintervals. The expression of simpsons rule is the following:\n",
        "\n",
        "![image.png](data:image/png;base64,iVBORw0KGgoAAAANSUhEUgAAAa0AAABCCAYAAADkM4nUAAAAAXNSR0IArs4c6QAAAARnQU1BAACxjwv8YQUAAAAJcEhZcwAADsMAAA7DAcdvqGQAABfmSURBVHhe7Z0PbBNXnse/e12Z2+hS9eQIdOY44SuqrZwwVIlVEbcIUq6EniBUdYKaBG4TWC2ku0mKNiEqoXdLqLbJ3kKCNoFTSaojoQKC9hKkkiBBsotiBDgSjVGRXUGMytm3oFhFWOVkCzT33sw4sePx3ziJnf19JGdm3owz49/83vu993vv/d6PBAYIgiAIIgP4K3lLEARBEGkPGS2CIAgiYyCjRRAEQWQMZLQIgiCIjIGMFkEQBJExkNEiCIIgMgYyWgRBEETGQEaLIAiCyBjIaBEEQRAZAxktgiAIImMgo0UQBEFkDGS0CIIgiIyBjBZBEASRMZDRIgiCIDKGpJcm8T6wYHBoHMjdgi0mLbJfkk/AD8eXh9Hz/cvwfuXCEkM28MQClfkCjmxSy9cQ6YL3ehv2Hh2A44EX0FTjzH9XQTf1LgmCINKLpFpa3pFmbDOfBwq3AP0lKD/tkM8w7vbi8J+L8cmHxVjzYwucKzTIueuDx+uTLyDSieyCOpw5XgcjP8jXQUsGiyCINCZxo+W34sS/DcBnLoXR3obWa4D7th0e+TRWleDkL4xQeZwYd6tgMlWj4dp1nHhPI572Xm/F5srzcIpHEn6vX97j+OG+M4Teg+UoOG6T04i5xP/AASvbmlZroZKSCIIg0pKEjZZ3pA/nn6lQuskE7aYDaG9sQPv+Qkw5/lTZyOYln9MOS9ab0K9g+34//C/Es6xm34DLX5RCKx0yPBg82Ilp86SCZnURDMsczHwR84Hd1s/+arBGJ1UsCIIg0pUEjZYbg2eH2XYLjLlsk6WBibW4TCuzxbMc5+kS5G9qQ/dNdt1SA3RqP6ztlei9z759sRnl5gI0j3jlq4mFxw3n17x68CZW66QUgiCIdCUxo/XYCssdti0wQJ8lJYWxhLW0Vjkx8UAP4xMr+jqa0Pu3B1Dxmhc+rRFGVj4uyVoC7wMrrDelj/OJGzZ53/rtlKORmA+8dljH2PbVSYx82oDmo63YZy5BwykbqGpBEES6kdDoQe+VJmxsHIJufx/OlE07+OLmbje2NT5F9WHeUtNBLXageDBQ0wPt8ToYxIskbMfzUYVujNUEpxIp504nCiq74V9ZivbOBpiWsjdysRabD9tRffoyqniLmiAIIk1IoKXlh21sSNxb82oSBovhfeTCpNqG0TGf1O+lCB+IYYXNzXbvjbGWnZv6tuYQ510Lk68GFY11osHiPP2/SfZXD/Ur0jFBEES6kIDRcsJxnW+NWJlkf332xkO4/kU3juwxhIxSy16WI+9x+EAMIyo+G8PY8SqYVmtoRNuc4YHNwqcrvAnT6wEpy2m5RhiWyUkEQRBpQvxGy22Hlbd+snTQp3SQmRqFBytCXIPEPOG3SxWRTQboA/OzHo9imKXpikw0Z4sgiKTw3rfB+UQ+eOaWghekiLiNlveuVZzLgwI9FWaLBfZO+WB3Y74BgfGf7msDsLAqRHGBFu6LDWi6xGsqBEEQ8eP8qgolm/KRn5+PAnMLrM+WyGdmT9xGy26T+rM0q7RTBVym4n9ogzVBy89HO9oeLq7eNcftYbE/y5gbaDp7YLtuA3ILYVxqQ/9ZH4xrozerk5FlCC88cNx0wLPAovU/diyekase9lvuelLSF5wxcskAPcrUMiTZPG5q7MPIleu4fqkdFbmhnTyzkUWcRssJ59fSnn5FBkxAdQ+jtbIKVZUlqPpsmBXF0/i/7kTlgWFAnZjpzV66BMMflaNNnNMUG8eXVSh/t0CqaRwV26hphgeue5NQvbYdpqn5WWoYt5bC8GwYzTVt+OvaIyiO8rrjkuUzB3r3s/fA3sfm/b1wBIvvhRtDB8vQ6c6WR5IuHCr2G9wnzai9mAEty2gydQ+hYWcn3NnqlPQFp41cFoEeJVqGzAleJyynm7CvrBzlu9jHvBEbK5vQe1PZ0CrlcR6vlH+Pl23527rhkANHhJH1MrJfUX4hs5IFH/Iek8lBoSYvT8jL2yp0fSOnpS0u4dxP2bP+ql6of4s/c70w+L186odRoeUtc/K/wdElmIP/Xwx8lhZ2/zyhfuipnLKIiEuWPuFW6zohbyd7FzvD9WfibKWw7uNBYfK5nLDQfH9VOPjWAuq4qF97hX6XfKxIFJk+n2C6v044ODQpJ6SIhZbLYtKjBMuQVOIaOiyUvbVBqO+zC5M+OZHh+kONsI6VUzV/mKF40fK4q1/Yy23Cr0fZ2wlnvD1P2PBBvdA10CXUv18j9DgUrkpSFvEZLesxsfANMQDpivOcUMaede/ZUWH0vzqEniG78FRUZh8T5FZh3W9G5eNk8Amjv1knvPO7W4ovaib27q1MZmVCzz05YdEQpyx9TOm53rReFcYHOoSOvlvTBcujflYRqkw72fACMO/n/azqkziTDlYYJKtbz+1C1/s8j8UwWlFkOjlQI+T9tEeYSFq/I5O8XHyC6xtXXPklIotKjxIrQ0JJVpY+VhYxw55nFlr+pFSheSoMHpDL96nT0fN4oEIeZuhknt67JYy7pCedOFsm5H3A9FI8CiY5WcTlHnTc4aGbGLkG6NK8Q8t7zwY+iFu70gTTrmpUbNZJy6Y8GUbv6UlsX28MWkYlUVQwbtwO75d9GI7p5vfAecfNmshGGFbKSYuFeGX5wIFRtjFq9TBsq0a12Qi1fL3jYhcsq4tgSjPZaAuKYBjrRD+P/JIQHoz+vg2jj+TDBHGcbkLnA/kgGpFk+sKBgVMWGOZo1GfycrHj/K7zGI/kQoqHRaVHiZQhM0lOlp5L9ajssGH5rkOoW6+0PFQ2DG/wdR6GMXBNdmvGyOOx4pUGYs1yXv5JDvCtFY6w35ucLOIwWnLhy1mlxfI5yBCpxHmPG9jwuWTesVH2SrbAtHZ2Tm/V6yZsZ/9peCxGx+SLCdivse0m4/Rw8kVCvLL03BsH1xxtWD+oA5aLbuj+2Zh+I1FXGFGU68HAzaDlduaab7vRdK0YdTvk4yhElOl9C/rdOhTmJzfxPyYLIReZxaZHcZchqYAZn2Of8QAChdhdHjo/NpglL0lnrE6XuI2ex2PFK7Xh3J5a1J+2iqHgfC/Yta9oFbu+k5FFbKMVKHwZulXpO9HXdlrqWGy+wIU5jq4D/LhVtuByNI9cLTQKIy/99wfQWtOA1k/3oWR/Nyw32XF9E5r2l6P2yxnR5lUarMwFhm12OUHmhQdWVluurWlG04cl2PdJL3sVoct9JHSftCW6LDmeK83iu6j5vTQAZfC3/F1UofeueMhqzuO4ykoh/d8vlxOC8FjR3ViL5s8aUFXZyjK9Bd31DWg6WBU2qGZuWI7l7P16bkgF5ZzDWkjdH4+iuKkChiijgmPJ1Hn7KntePbR/Jx0Hkxq9m2e5MBatHkUqQ+YA5+UuDD1jO9uKURhlDV6XW5Kx6sdcCWPk8ZjxSg3YeeoAM3nj6DnajJavslF3vBpGJeORjCxkN2Fk5D4i7r9suSGnpS3jwjH+rGG+5Emh/5cs/cCgEDYk4tGgUPPBMeGWeGJC6CmVfbv3rgqH+UCOt44J4yE+3afC1Y9n3OO5S+j/aJ2Q98tzgku8Vr5fcIdxwveZZqKvRijbWRb3p6Yv3HucOqLIMoSADNhvnvm7bvM+UoWOat+40PFBjdD/nXggjP5akmGHzS70iP097Nwj8co5ReqLVHjuqPDfG2sQRTj2bjN7X9KXeOd19D6tyDIVv7u1S7DPfOZZ6N1MkpMLz5OJfieYxahHCmVIXCQqS7vQtZX/3liDwSaEc+IAl8B1MfK4rUMcuJH3foswKstR7E/Ne0d50EZUEpdFzJZWoI+Iu9x0fG2sdMbtFJ9VxWsIUoqMC04e+WGpOmyOmfPaILS1rBbAT/jdcN9n202FMK1YDt2GIlQcKYUhxPWQjRwe3mjMCZfst3WcZjW6azmo+lkpNOK17BrxAaabz4nfZxqtuR1nTp+J+9NuniMXkUhkWYbAWujidQVa/OOM3+X5ji8BujwstqF3bBgPSupQLOqZC657bKPZjrdzc6BdX4Sixt1Ra4upIkfN5eeAO8n+qbjhbsHbJTggL5Aak4gy9cApyoq9kxmyno3ezWTe5BLMotSj8DJkThAX4uU7OhhWRcmtD60YEluvhSjM59dFz+OpjVeauCxiGi2pj4iRpYM23WPRMaPFG7nGlQrugghwg1D3htxudYyLESJMbxiQrdKh9PAR1K2PUaD4rRj4gmWerEJpjTHOC9Z8vsS2QeGRZn2fFCLOr0jgkxSP3FIFYpV2eoHQGPCl/1vfkw2uxwELy0iqDauhe0kNU80RHDEzeQUKrvu9KF+/EU0jCTp6XvjhvtYmusWSRZynwue4hHxq0Pm1FW01M9PZ56glfJkXvw2dH4+jpD5Q0YmDJGSakN4lK1MZ54Xa8N++qxkDOI+mnTPTy1F7IXj98ggsYj2KRkpk+cIn77yM7J/Iuwo4LveKi/BqykriMOZpEK9UbnFFYFIY/EhqNsZ2By08rj/sZc+qND9Cdhv+7pZ8rIw4NFPx+6FIbhy5mR5oKgfPV3B0CVtZWtkZZTddvPdJT+KTZWCahJJbQnIlRHelxZzj9twnPP0+wcG/310VOk50CAd35gnrTozLieHE83zhJOYenPyK32ODYA5y65rf5nqVJ2x4nx0fucr+4wwiylR258RwscTUuxgyTU4us3QPLqAeTZytF8455YNgUqBHIWVI3CQqy3GhQ5yrWimcE12lCrj4lAF2zfvs/06JKEoeD0w/CLYH4rSDyOVdLBKVRfSWVvAgDIMuujtowfHD6eDtLD00YY2W5dAWsM1jT1iNl9eWmj45D4d/ugYRcOn5xzoVajBeTPLmfn7oSEpj7vSAC4+dd76qxDTnuX1ou+5N4j7TKNe6In/2nYujBps0kWUZjPM+fxca6FeEa436H3gteAKeQEBNGf9dVov8pA2Wx4B9TIyKiPxc+fsPB9Agt1jcl5pQtcOMbR3S6KS4WVGI6r07YIzhwpj0cPnpoJnDWqP63XaMjY2gb8qtexwVYkvdiLrj7PhgYVjLIrJM1dCuYhtn8vodj0znQy4zWUg98j4axaTSiVnrkXIZknr0eNPMC0Mbxu4otCSf2dBW0wxLlgmHjtVJLmSRKHk85fFKlWXh90YeHhTdaMlNc06ya2jNHy64uF9WcS6ZGho+j8M5Ce55ncaG/qZeDP3RxgyeFN0ca1dKwmMvtPOoA4XsRYTC/sdDttHkQFxQRWfE9iyW6peb4u4htBy3sJ010KodGDmTDb3OmcR9pkm0T+vEjrl8V5FkGYwfbifXHCN0SvNnlmrZGQ9ck8GK6cHwqVYMXbLA8Z0Vw1f4OS20PM+9cGPg2HloCo3IfjyAll49ioqYut92RnmGZPGzTMQyXa78ftOG6DLNWWFkInRhko8UmyJO/Y5Lpgshl8WqRzPKkDlDBcOeI6hgshtub8EAv6eM321B2569OP9KFU5caJf7/wJEzuOpiFcaSrgs3BeqULCxAPniUP1wohot/wOHFNkdJujS3Wb53XjAjRarRirN2dAbmHbed8Idkqn1eHsvyxD5wGC7DYVHD6H0xQlWS2tFQ/0QtP+uEHtPvk/hG/KcB5UR+zrqoOltQsMnDSg/5kbJfxxC0dJx9H7UAvueOhSpk7hPGqMsy2DkCkQ+exdKQ2Y1ehjZ77X9jzQnRILHPSyGbq0WEyd78fKv2lG3/ipa65vRVNMGz47jqONzRtRbcOQUK6CvuaHdZmLFUaqRnl2zfv7m/khDu/eyFjk/sqJlD2sxfzpzWHZ0mWr+yciKEmac/ldOEIlT7+KS6fzLZdHq0cwyZC7JMqDu3GWcKFdh4OcbsZnHHGSfymNWaBsu4I//Wc2MjXxtEMp5fPbxSsNQkEW2mgdlV0G3LEdZPrKbUBHJB56nPJQ23ZD7kSL6rr8fFOrZ+RZLgv0gM/DdaBHWhYQ7yXx89/qFlp+axf4V3q+yofqYMBrJB86JJcunV4WD7PzWz+1yQjj2z7cKeTvPKYR2iQPRh24Wer7xCT6ulz6XMH7jlnAr0udesE5I/T8R+yK+OydUisOj5eO4SaxPK2FiyZSHgdqaJ5SdTXK6w0yZziRpucyiT2u+9ej7iRC96TmwTjh4NkiPbkwE9esnr0fJlyGz7B9MhBSVl7FIRhZRWlqBpjmD13TmrXaVGO5rveg8bYFN7EcywbQ63Pct8kohKnZpcP6KVbHJGR9+WEf6kRPXKJsM4fEA6ncM4G/2d4v9K30X27HlTi9q36vFwGP5mplEkKX/7gA6Tw7AcceOYVZHKlw7VR0LQ7dtN0zsegsfgp0gXpsVlpVbkHOnFodHvKy1qxHD0BgjfV6NoBMKOK8PwVawG9sDI0HjJhv6oiLoEx7yG524ZfqSDsV7THB8ZYEziWHUYTKdQfJyWQ5jo5H9jZ8F06NXtCF6Y2AtBk1ukB69Ef+yTJHlNZsyJHFZJk1KystYJCeLKEZLbpozTGv1ys20hcY7jM79beg+dR5dlyxQmUtRGLGTWAXDrjoUXWmZnlGfKN/2ou3Sdhz4mTE95ZEEnhvDYCYf3b/qk/ovs/TQreU7FgzfiDQMWEmWDvQ2NrN3wSoRZ0fgX12N4tflU0osLUb1h360fT6k2AkejSXLNND6r+L8N+x/bIzfIOEh05eTXRh+wLLLFfYuWcFoC775k2F0dQB1tcXxD0OfQgXdu8XQZcmHKSExmar/pRrVz9pw4kqiEo0h01nJRQ2T2ZTA9xa5Hs2qDElUlrMhBeVlLJKVhdziCicwtDGth2ZPCld/UymYP6gUKj/qEcYjeAaD8d3uEMr48M4f5IR4+YE1zT8oEzqscdwkk/jBLvSf6BB6/hTwawVmx68TjlnlpAiEytIn2M/UCO8wGVXubhEGo7kXAzx3CYMHNkSMFD2viFFN3hHqB9LgWaZIQqauQaH+7ZrUuSnnXS7po0fj7esSd4dGk1cGliFJl5exmIUsfsT/yPYrlG+7sa2sE26U4sTNBhjnxbrPD3wlznG/NiG3EV9p0wk9DCsTqJFlIP6xNpj39sK76QjOfFoUs1aXjCxD4CvOjrmQ/boBmgVsvvIVZ8cnc2DMXQR+X75ysTsba1bPPlZoxshlLvTI74f/JRVUCZR90eSVqWXIrPO4ArORRUSj5b3ShI2NQwArvEY+K0rzOVrEbHGPdKL/pgMDl9xYU3MIh94LihpAEASRJkTs03Iz68pJ/0nFRCrQbKxGdWM7Lhw1wfnZXuxtt8Azl3HRCIIgkiCC0QqsoSVFdSD+csjO3419m/1wfFmLmnhiwxEEQcwjykZrKnzTFhhfE1OIRYo4ZeBkLyxTkVfkqMsMx4gtfC0ggiCIBUTZaD2UoqXzVXcNKR3CS6QXPMwPnzLQhvoLkjuY43subTVrZy7xQhAEsbAoGq3AGlriEgZSkgx3GzWhqaMVte/WoqGxCQ17N6LpSnJLGRALjQFvV2qB1yrQXm6QkjxDGOARMbNM2L1NTiMIgkgTFI2W3TbE/hpgen1GPftuLw7/uRiffFiMNT+2wLlCg5y7Pni8gXVbiExDt6sbZ/4V6Pv5ZjEu2eYdx+B+9xDOXGzPqHiIBEH8ZSANeX/mhpWH63h9C0waJ7rfK0enugF9p0pDwzf5vfCytle2dwi1mw9De+o66sToCRLe660wf74SJ79g35PTQvHDfWcYw2d70LnsAK7XUE2eIAiCiB+xpeX5Ywv2HW5G7W8H4XZY0O9WobRyS3i8QRUzWHzintMOS9ab0PNw9nwCnjw0OrugAZcjGiyOCprVRTAsc8xhPCuCIAhisSIaLbXOyAyNCXW/0GP0ZCcm1x9AhSl8dpbzdAnyN7Wh++YwsNQAndoPa3sleu8D7ovNKDcXoFkh2CZBEARBpAKpT+vVCnR/uQUYvgqY+3D5txECYy5hLa1VTkw80MP4xIq+jib0/i0zcK954dMaYWTNpyVZS4AnTlhvWsM+Nje1rwiCIIjkiRx7MFHudmNb41NUH94CY64O6ijxv2zH81GFboxRnxZBEASRAIqjB5PB+8iFSbUNo2M+qd9LET4Qg7e42O69MVjuuKlviyAIgoib1LW0CIIgCGKOSVlLiyAIgiDmGjJaBEEQRMZARosgCILIGMhoEQRBEBkDGS2CIAgiYyCjRRAEQWQMZLQIgiCIDAH4fzB9A1DijmoOAAAAAElFTkSuQmCC)"
      ],
      "metadata": {
        "id": "l-9uTpXOt4cW"
      }
    },
    {
      "cell_type": "code",
      "source": [
        "#An example is shown below for computation and visualization:\n",
        "\n",
        "#Here we use the trapzoid rule to approximate cosx from 0 to pi, with 13 spaced grids over exact value of 0\n",
        "import numpy as np\n",
        "#importing libraries\n",
        "\n",
        "a = 0 \n",
        "b = np.pi\n",
        "n = 13\n",
        "h = (b - a)/(n - 1)\n",
        "x = np.linspace( a, b, n)\n",
        "f = np.cos(x)\n",
        "I_simp = (h/3) * (f[0] + 2*sum(f[:n-2:]) + 4*sum(f[1:n-1:2]) + f[n-1])\n",
        "err_simp = 0 - I_simp\n",
        "\n",
        "print(I_simp)\n",
        "print(err_simp)"
      ],
      "metadata": {
        "colab": {
          "base_uri": "https://localhost:8080/"
        },
        "id": "nOXYqPb3a8P1",
        "outputId": "87350072-b2d8-4010-9d37-4d7a0919ed33"
      },
      "execution_count": null,
      "outputs": [
        {
          "output_type": "stream",
          "name": "stdout",
          "text": [
            "0.3431187851873437\n",
            "-0.3431187851873437\n"
          ]
        }
      ]
    },
    {
      "cell_type": "code",
      "source": [
        "## 21.5 Computing Integrals in Python"
      ],
      "metadata": {
        "id": "_zSCEkSRtux4"
      },
      "execution_count": null,
      "outputs": []
    },
    {
      "cell_type": "markdown",
      "source": [
        "There are various functions for generating integrals in the scipy.integrate sub-package. Python's trapz syntax accepts an array of function values f generated on a grid of numbers called x as input parameters. \n",
        "\n",
        "An example of using the trapz function to approximate the intergral x^2 from 0 to 3 for 12 equally spaced points is used below"
      ],
      "metadata": {
        "id": "j79gmMBObmYH"
      }
    },
    {
      "cell_type": "code",
      "source": [
        "import numpy as np\n",
        "from scipy.integrate import trapz\n",
        "\n",
        "#assigning variable components\n",
        "a = 0\n",
        "b = 3\n",
        "n = 13\n",
        "h = (b - a) / (n - 1)\n",
        "x = np.linspace(a, b, n)\n",
        "f = x ** 2\n",
        "\n",
        "#computation\n",
        "I_trapz = trapz(f,x)\n",
        "I_trap = (h/2)*(f[0] + 2 * sum(f[1:n-1]) + f[n-1])\n",
        "\n",
        "#result printing and display\n",
        "print(I_trapz)\n",
        "print(I_trap)"
      ],
      "metadata": {
        "colab": {
          "base_uri": "https://localhost:8080/"
        },
        "id": "1r7VGKYjcI1h",
        "outputId": "64737b4d-4333-429c-c979-43c2bce1465e"
      },
      "execution_count": null,
      "outputs": [
        {
          "output_type": "stream",
          "name": "stdout",
          "text": [
            "9.03125\n",
            "9.03125\n"
          ]
        }
      ]
    },
    {
      "cell_type": "markdown",
      "source": [
        "Suppose that you're interested in learning the estimated cumulative integral. The cumtrapz function, which accepts the same input arguments as trapz, is beneficial to utilize in python programming language.\n",
        "\n",
        "Here we use the cumtrapz function to approximate the function intergral f=sin from 0 to pi with h = .1 and we plot the results of it:"
      ],
      "metadata": {
        "id": "MWL9rnoIdvNQ"
      }
    },
    {
      "cell_type": "code",
      "source": [
        "#importing appropriate libraries\n",
        "from scipy.integrate import cumtrapz\n",
        "import matplotlib.pyplot as plt\n",
        "%matplotlib inline\n",
        "\n",
        "#step sizes and integral sizes\n",
        "x = np.arange(0, np.pi, 0.1)\n",
        "F_exact = np.sin(x)\n",
        "F_approx = cumtrapz(np.cos(x), x)\n",
        "\n",
        "plt.figure(figsize = (10,6))\n",
        "plt.plot(x, F_exact)\n",
        "plt.plot(x[1::], F_approx)\n",
        "plt.tight_layout()\n",
        "plt.title('$F(x) = \\int_0^{x} siny dy$')\n",
        "plt.legend(['Exact with Offset', 'Approx'])\n",
        "plt.show()"
      ],
      "metadata": {
        "colab": {
          "base_uri": "https://localhost:8080/",
          "height": 467
        },
        "id": "AtvR6lTCdg8l",
        "outputId": "8076bf06-2559-47ea-e0ce-cea73b60ffaf"
      },
      "execution_count": null,
      "outputs": [
        {
          "output_type": "display_data",
          "data": {
            "text/plain": [
              "<Figure size 720x432 with 1 Axes>"
            ],
            "image/png": "[encoded data removed]"
          },
          "metadata": {
            "needs_background": "light"
          }
        }
      ]
    },
    {
      "cell_type": "markdown",
      "source": [
        "The quad(f,a,b) function approximates integrals using an alternative method of numerical differentiation. Quad integrates the function from a to b that is specified by the function f.\n",
        "\n",
        "In the following example below we approximate the integral 0 to pi cosx "
      ],
      "metadata": {
        "id": "lvV26KZJg-JB"
      }
    },
    {
      "cell_type": "code",
      "source": [
        "from scipy.integrate import quad \n",
        "\n",
        "I_quad, est_err_quad = quad(np.cos, 0, np.pi)\n",
        "err_quad = 2 - I_quad\n",
        "\n",
        "print(I_quad)\n",
        "print(est_err_quad, err_quad)"
      ],
      "metadata": {
        "colab": {
          "base_uri": "https://localhost:8080/"
        },
        "id": "EiGwITKDf7fd",
        "outputId": "46804cd4-bf9c-4fad-9661-7a4d65170339"
      },
      "execution_count": null,
      "outputs": [
        {
          "output_type": "stream",
          "name": "stdout",
          "text": [
            "4.9225526349740854e-17\n",
            "2.2102239425853306e-14 2.0\n"
          ]
        }
      ]
    },
    {
      "cell_type": "code",
      "source": [],
      "metadata": {
        "id": "G4i8-UhyhtWz"
      },
      "execution_count": null,
      "outputs": []
    }
  ]
}