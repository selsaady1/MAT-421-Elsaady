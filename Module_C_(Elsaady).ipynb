{
  "nbformat": 4,
  "nbformat_minor": 0,
  "metadata": {
    "colab": {
      "provenance": [],
      "authorship_tag": "ABX9TyO4bQNSA81SV4qNy/+hxklD",
      "include_colab_link": true
    },
    "kernelspec": {
      "name": "python3",
      "display_name": "Python 3"
    },
    "language_info": {
      "name": "python"
    }
  },
  "cells": [
    {
      "cell_type": "markdown",
      "metadata": {
        "id": "view-in-github",
        "colab_type": "text"
      },
      "source": [
        "<a href=\"https://colab.research.google.com/github/selsaady1/MAT-421-Elsaady/blob/main/Module_C_(Elsaady).ipynb\" target=\"_parent\"><img src=\"https://colab.research.google.com/assets/colab-badge.svg\" alt=\"Open In Colab\"/></a>"
      ]
    },
    {
      "cell_type": "code",
      "execution_count": null,
      "metadata": {
        "id": "saEs43NNsNud"
      },
      "outputs": [],
      "source": [
        "## Module C, Chapter 19 Root Finding\n",
        "## Saif Elsaady\n",
        "## MAT 421, Febuary 5 2023"
      ]
    },
    {
      "cell_type": "code",
      "source": [
        "## 19.1 Root Finding Problem Statement"
      ],
      "metadata": {
        "id": "MCYuLv7Dsj9Y"
      },
      "execution_count": null,
      "outputs": []
    },
    {
      "cell_type": "markdown",
      "source": [
        "The root of a function goes back to previous factoring methods learned in mathmatics, the root (or zero of a function) is an x_r so that f(x_r) is equal to zero. When it comes to more advanced problems such as f(x) = cos(x) - x we have to take a different approach than if we had to solve for x^2 -5 = f(x).\n",
        "\n",
        "An example of solving for an advanced problem in python programming is show below:"
      ],
      "metadata": {
        "id": "INpcAeE2sqyW"
      }
    },
    {
      "cell_type": "code",
      "source": [
        "#here we attempt to solve for cos(x) - 1 near -3\n",
        "import numpy as np #libraries\n",
        "from scipy import optimize #libraries\n",
        "\n",
        "f = lambda x: np.cos(x) - 1\n",
        "r = optimize.fsolve(f, -3)\n",
        "print(\"r =\", r)\n",
        "\n",
        "# Verify the solution is a root\n",
        "result = f(r)\n",
        "print(\"result=\", result)"
      ],
      "metadata": {
        "colab": {
          "base_uri": "https://localhost:8080/"
        },
        "id": "5VuUx_XNwbTX",
        "outputId": "38b7f2d9-346e-4366-f4f4-901c88bab7a6"
      },
      "execution_count": null,
      "outputs": [
        {
          "output_type": "stream",
          "name": "stdout",
          "text": [
            "r = [-4.54483515e-09]\n",
            "result= [0.]\n"
          ]
        }
      ]
    },
    {
      "cell_type": "code",
      "source": [
        "## 19.2 Tolerance"
      ],
      "metadata": {
        "id": "ReqGXpNJxKFe"
      },
      "execution_count": null,
      "outputs": []
    },
    {
      "cell_type": "markdown",
      "source": [
        "Tolerance is the level of error that will be tolerated or accepted in an engineering problem. When a computer program has converged to a specific answer, this means that the computer has found an error that is less than the tolerance which has deemed the solution to be acceptable. With tolerance, being careful with the program is a necessity. We have to note that we want an x_r so that within the accepta"
      ],
      "metadata": {
        "id": "skmnefGAxQ-a"
      }
    },
    {
      "cell_type": "code",
      "source": [
        "## 19.3 Bisection Method"
      ],
      "metadata": {
        "id": "BYP0jhF1xhxg"
      },
      "execution_count": null,
      "outputs": []
    },
    {
      "cell_type": "markdown",
      "source": [
        "The Intermediate Value Theorem states that if f(x) is a continuous function between a & b, and sign(f(a))≠sign(f(b)) then there must be a value (C) such that a<c<b and f(c)=0 . The bisection method uses the intermediate value theorum to find roots"
      ],
      "metadata": {
        "id": "HHrkR0lzySFi"
      }
    },
    {
      "cell_type": "markdown",
      "source": [
        "The following process below repeats until the error is within the appropriate tolerance:\n",
        "\n",
        "Let us says that f(x) is a continuous function & a/b are real&scalar values such that a < b.\n",
        "\n",
        "According to the intermediate value theorem when f(a) > 0 and f(b) < 0 there must be a root on (a,b).\n",
        "\n",
        "Let m = (b+a)/2 . If f(m) = 0 or is close within an acceptable range, m is a root of the function.\n",
        "\n",
        "M is an improvement on the value a & there is a guaranteed root on interval (m,b) if f(m) > 0.\n",
        "\n",
        "M is an improvement on the value b & there is a guaranteed root on interval (a,m) if f(m) < 0.\n",
        "\n",
        "If f(m) < 0 , then m is an improvement on right bound , b, and there is a guaranteed root on interval (a,m).\n"
      ],
      "metadata": {
        "id": "fx9RGKjP0kSC"
      }
    },
    {
      "cell_type": "code",
      "source": [
        "##The following function below approximates the root of r of f, bounded by a&b & within tolerance.\n",
        "import numpy as np\n",
        "\n",
        "def my_bisection(f, a, b, tol): \n",
        "    if np.sign(f(a)) == np.sign(f(b)):\n",
        "        raise Exception(\"The scalars a and b do not bound a root\")\n",
        "    m = (a + b)/2    # get midpoint\n",
        "    if np.abs(f(m)) < tol:         # stopping condition, report m as root\n",
        "        return m\n",
        "    elif np.sign(f(a)) == np.sign(f(m)): # case where m is an improvement on a. /// recursive call with a = m\n",
        "        return my_bisection(f, m, b, tol)\n",
        "    elif np.sign(f(b)) == np.sign(f(m)): # case where m is an improvement on b. // Make recursive call with b = m\n",
        "        return my_bisection(f, a, m, tol)"
      ],
      "metadata": {
        "id": "Xs7ahDIp4RXe"
      },
      "execution_count": null,
      "outputs": []
    },
    {
      "cell_type": "markdown",
      "source": [
        "In this example we check that sqrt of 3 can be computed from the function x^2 -3 = f(x) from a = 0 to b =3. We call the function to check for a tolerance of abs(x)< 0.0001 && abs(x)< 0.001. We also verify by replugging the root back into the original function!"
      ],
      "metadata": {
        "id": "ZMnrQApC45mW"
      }
    },
    {
      "cell_type": "code",
      "source": [
        "f = lambda x: x**2 - 3 #function\n",
        "\n",
        "r1 = my_bisection(f, 0, 3, 0.001)\n",
        "print(\"r1 =\", r1)\n",
        "r01 = my_bisection(f, 0, 3, 0.0001)\n",
        "print(\"r01 =\", r01)\n",
        "\n",
        "print(\"f(r1) =\", f(r1))\n",
        "print(\"f(r01) =\", f(r01))"
      ],
      "metadata": {
        "colab": {
          "base_uri": "https://localhost:8080/"
        },
        "id": "I9VNxA5k5Ka1",
        "outputId": "ace78def-ef98-41bc-8aa0-52b65e8c2a73"
      },
      "execution_count": null,
      "outputs": [
        {
          "output_type": "stream",
          "name": "stdout",
          "text": [
            "r1 = 1.732177734375\n",
            "r01 = 1.7320404052734375\n",
            "f(r1) = 0.00043970346450805664\n",
            "f(r01) = -3.603450022637844e-05\n"
          ]
        }
      ]
    },
    {
      "cell_type": "code",
      "source": [
        "## 19.4 Newton-Raphson Method"
      ],
      "metadata": {
        "id": "U4nlAxiV5-Dn"
      },
      "execution_count": null,
      "outputs": []
    },
    {
      "cell_type": "markdown",
      "source": [
        "Newtons-Raphson method finds roots by iterating newtons steps from x_0 until the error is less than the tolerance. The newton step is shown below:\n",
        "\n",
        "![Screenshot 2023-01-11 104615.png](data:image/png;base64,iVBORw0KGgoAAAANSUhEUgAAARQAAABzCAYAAABZ9v0vAAAAAXNSR0IArs4c6QAAAARnQU1BAACxjwv8YQUAAAAJcEhZcwAAEnQAABJ0Ad5mH3gAABJHSURBVHhe7d0BTFNZugfw/z43mCVh4gYym5S3id2ZDMSN1Qk0E0Un2jECzpPOZArOgsN7gJMAZoExC/oeOMkiZqDMjkACkgxgRDBayFvKRIFE62bWktWSCCVDWjNrzfjajaTNGPoeGxrJfefcXpyKqAi3tKXfL9HbHioUk/vvOeee892fCQwIIUQG/yIdCSFk1ShQCCGyoUAhhMiGAoUQIhsKFEKIbChQCCGyoUAhhMiGAoUQIhsKFEKIbChQCCGyoUAhhMiGAoUQIhsKFEKIbChQCCGyoUAhhMiGAoUQIhsKFEKIbChQCCGyoUAhhMiGAoUQIhsKFEKIbChQCCGyoUAhhMiGAoUQIhsKFEKIbChQCCGyoUAhhMiGAoUQIhsKFEKIbChQCCGyoUAhhMiGAoUQIhsKFEKIbChQCCGyoUAhhMiGAoUQIhsKFEKIbChQSJjzwTFihGXaJz0PX75pC4wjDvaOoxcFCgljPljbC1A4AiTGx0ht4SsmPhEYKURBuzVqQ4UChYQtz9VKFF/chro6LRQbpMZwtkEBbV0dtl0sRuWgS2qMLhQoJDxND6O23oxd1SVIi5XaIkFsGkqqd8Fc2wDjtNQWRShQSBhiQ51LbTDjMA7vi5PaIkfcPva+Y81oOG+JuqEPBQoJP96bMHS7oMjPhCoShjqLbVAhM18B3+U+mB5JbVGCAoWEHe8tE4bZUbM9yd8QgZK2a9jfJtwc8/obogQFCllb8x5YumtQqMtGni4d6cd6YBkfRk+3Ga55/gI23BnjcZKGZCV/HqGUyew3AIbHouuKDwUKWTseM/SH0lEymICSc33o7f8Gdf9qQMmRGjS1GGAVhwcO2Ef5UQlFPD8uxQfHoB4luXnIPpCO7MouWKa9sHaXI5sFVfqBQuivhfgqS7yC/QbMlBNOsSE6UKCQtTHvgOEP5TDcV6HqywqoxbnWGKgzPoCYG4ptUPIH8zOY4VmQqkQCb38GX5uSh6pxFU5e6EXfNy3ItLeh5MBeFI9r0HymBLs22WA40QZTSEcbCVCmssOUC9E06KFAIWvCe+0s9JPswb4cZG72t3Fe1z14+IM9WyHOmHhcrI/CxAAb+XGxBwNoupqGkycy/GtTnkzaKnDkiBYb7xhhvMsGGYrfIHHR5WbPmAFtg/bVDUF8Llg6qlBz9WU9IPbuxbV4Djii6PIxBQpZAy4MXTKJj9J2qhF4Idhm5fMlQIYqWTy+jJelT+pnOVAtLJz1ODDBz+1YDVJZIsW//zl6W7vQ11uIpKeuEDkwVK9H36gNzpUkymQP8tgQi/8paTfB4Z2TvkACUaCQ4PPaYOW9E9aL2JYcODFix+Rf+FEN9ZblrTeJ256D0r0K6RnrMNitMPMHu1VQij2WeCS9wx4/8+2UONw/hhv1WihXsop/62H0XuxFb41WaiBLoUAhwfdPrzSPsAtJAcMdTNv8vQuFGskLGfG60j+ZyXoRy+kDOOw3xaM6Nfmpnk/osXcv9oTY7/O62BAVKFBI8C1c8UAM4gJ6By6zyd+7WJg/EcVBsYUdxhxw+xueNu+B/ZaVDTn4EzbcuSEmEtS//anX4h03oE1s53ywd5ejvLIc2QeaYJmVmoPODccYOyheW3ouaJ2iQCHBt2EbNEd4pFhhu+9v8nyrR/lpMU4WzZ8kIpEHCgsLlzhbG8gHy1cHkXe0ENnnrKyHw4Y7U7w9oOcz78BQcxM8Un/FN96GBlcOPi/YhrlpA25MrmpKdvkWJpd3JklhGh0oUMgaiIHq03Y05wOdR9KRnZuHmlE2GBCnU9KgVgUOVthrUzPY0QybeEYG8sLzDxYIm9So2JcI66UeWGJ5l4cNLx6zw7wXltYqNP3yOIre9X9P71wCtFkquEcH4Ir9AGlbpS6Sx4Ke9ja0vezPSuubOGxi7ysjVeW/2BMtBEJC4eGAUJaSIqQc7BRsUtMTPw4JlexrB79+5ivC3HcXhOL39gi6j/YLuXVDgvNHm3Dhs/3Cjvd0gi5zv1D29W3B/Vh68YK520LDbvb9/nRbmJOaVuzOGSGFvbfcS/ekhqXZvj7IXlctXJ+RGqIEBQoJrsdu4XZfq9B6/qbgDDjRnX0F4om5VGiwBBBu63cIKbvPCBOLw2EFZoYr2c8qEDrtM4LtymVhYjUn+XIC5fGEcIYHWPPE6gMswtCQhwSVZ6QWJfVd6OowwSZNiHonu1DTYkXM9lI05i61ATAG6n8/jrTZHvRcW+06Uw/MIyZgpxYZ8WZ0DgNxQZ4l9V5j75sN5Uo/jrLhDvMznirSY0LkN+uAsUUPg3UG+Dl7zuc6fqlE5qEiaNOUiHtBeQLXYDl0XyaicbhqVUWWPCNV0LW6od6SjLRPK6B9YwWnOV/Y1jgEuB2w8/q2sfFI2pwA5ceNqDvw0xUmzJqhz6iE88Q3aD7w3M1I6xYFCglj/pqy5Xdz0NsYAWUg510wVubB8FYzzhVHX++Eo0AhYY5XvR+C++1MqF8P71OUV70fupOAzHRlVIYJR4FCCJFNyAPFM9aFhq+uw+lzw73pPZT+ZwnU359FzdcWeGdnoPi4BY35SWGe+Lw+RxP0lybgfuQGfnsIVZXZ2Dhcg1ODLszMxuG9Y3Wo2hcw1iZkPeKBEiruK2XCnqJO6TLejDB0PEW8JJfy0Rlh4qFNuFC6hz0/KHTaxZeHqTlh4qxO0P1xyH9Z9LFN6Dzo/z12fDYgOH+4LtT+bgd7Hn1rEkj0CV0PxWeBfl8PkvqboRU3T3lhqt6LqhFAc/oG9L/qROqRHtauQd01PTI28deshH9ir0GsAvaq1ChtrUDai3adPTCg8KgLFf0V0pZ6O7qy8tDmUqC0exDa78uRXmsGFKXo/XPglno+N2CA+RcaHH53FT0XXp+juwlGRcXTVxsICQUxVkKBfXK39k2wfsmCCaF1N/9kLxMGHrKnj2eEe3duCzb+eBG35bLQarSFxaKhmTvsvZic0jPGPeRfAbqwKOuxW7D9bUK4t7h3MsN6Lrt3CLl/uh3wf/AKrBeE3N/lCrkf8V7cy1duErIWwmdS9r4BeTo97PyTfJB9kkvNz3KgR5eNzjdPoqt2hbUtgsg3qsfOMgOQrseN05rgb6kfbxJ7ckmVfeg9tJxtaF6YvypG27j0dLm2FKHlhMZfrvEFUlN53UOyXGNjfEvy+hE2geK9VoO9J4aB3LMYO6aWWiOP/VwW8lpdUFcP4uyHazAEeeVAISR4Qhco8144Jm3wKdRIet0Hc/1OlPcDGfU3ULdwt7j7JrSNJeATnWoVn/RBnkPh9TnGnIjZwquEOWDIz4Z+SoHSi4MofMv/El6f48KPu/yVxuZdMNU3wPSI9RRmtehqYb2s1SzYokAh4YQHSigsbA5L+f2A4JY2U6Wk5AqXHdILhDnh5hc7BN35hbmBOcF2vkwo+0OZoMs8I9z+P6k5pKRNbPz3aJ74aQdtSoNwc2GC5/E94fJ/7BBqTf6ZEreR/Q6X7glOacPa5R/E5pVb5u5XEiEWNlP2LbFrOgKEbHOg220DYpOgzVJj7konjNJKE594syfA9edKVI7l4KTO/6kbskI5L/Sq9Tl8mNmoRs7u12C9YQK2ZkC9MCoKdn0OEhGebKasL0HtyDMVpsKfFCxrz8nXZ+wR9n+0X9hfekGY+NEpXP+iQNize79Y16LgiwHhXkAvxP23C8LAdzP+OhO7WQ8gLHoorI+ykvocP1wWClivouy/A64OrVSU9VDclgFhyB4BC3pmbMKQcQW9jIdDQnXmDmFHZrUwtMQVznAXWfVQ5CyUE0L+UKwWrv/oFm6evy6sKlaiKFCcVyqFPXzRY5h8mLzYnDDRrBP2HJcWPEaJiKqH4r3RB8OsCh/8WzIcVw2wRuQt2ay43u2C4gMt1C4jOl0bw6xaeyh4Yardi9R3S2B8IDUt4ptsQ/nnbpR8WQHVKkoZrJ0YqI7qUfKwBuWt0XN/4wgKlLUvlBMcydiVnwT3ZA9OdQMln6atLFB4fY78POT9l0F8am8tFp+//I52YchrgWmQfTrMzsHzzyVOPZ8VHX/swlzxceQE3oYj3G1QIqeyFHPdNWgbj45ICZ+FbcsgS6EcEn7GmpBa3MM+LE5i8MyzdU88g3z7AnDy6sI2jUjigbEsHae8VRg8l4P1vjkiooY88Xz16WAX9PVVFCbriH2S36Y0BhkfapYoomSHscMM7MuEJiJvmBUPzfsasUc5LN7yY32jmrIkxDyw3WHDtFgNNG8vMfi7a8YA+7L6ndUsbgytuK1pUMOFgVt2qWX9okAhwTXvhX2kCVW6bGTnpiO9QI/hcQsM7UbYedFqnw32UYiT1LuW2FHuuHOdnYox2PrmCwYLHgu6KvmNzLORfqAQ+kEHvA+GoS9gP1PHfuaxHv/PChWFEltjAdeNCf/Nv9YxChQSPLMOGCrTkXfagbQzfei7OIJzWU7UHCmBvqMB1//OXmOfwAD4lbttSxTR8sJh5Z/qaiT+yt/yjOlhlB86C+S3o/diH/rLE2CozcbeDzsRU96OuqzfwPdtEyovh7J3kIjE7ewwdR+udT43S4FCgsQHc0se9N8COfWN0P7a36rYmwmN+EiD5M2sBzJlho9fuVtyTswLr7hYVAnFktucfbCcrwXKGlG4VRoQbZC+z74iFG13YqjFwr4LkKwI5XRoPBTi1Skn3I/EhnWLAoUEx1QPGvrZx7HiCLTvBITFtAs2fkxVI5llgPJgI3rLl5qM5aQbjjMbn/N1b1wFivb+lDaO7/kEL5C2U4041vMp6u/C2e4R6NMXzcCwYdKTYdcqeKeM0B9tg/UlPY+N/BYiMMMRgVf1XwUFCgkC1nO40gF+7sTsSw2oUge4vrOI7Yp3kv2XUGMVSHpjpdOtCmiKc/DTrZEdsI3yM1uBbcn+kInbrIJ6y7PdG8cVPfT9Ztj4PXZemQem0/45G13xKRhu/a/YCyIUKCQoHJj8q/9E1WwJLKnghW3MIj7SbH1+Ca0V8zpgFS/NarD1DbHluZT5fRi7pod280qWH8RDU92L3ovtKOVzI+QJChQSBHOYEbv2SVC9GdD7mGcn/F/5gwyolpUniVDu9D+ak3ahL+a9b4Vlyr8r1zc5hmH+IF2F5IVeEfuZpvbQb9OY47vPkQblOl/ZRoFCgiABSrESZAI2Buy78d0xwcTnLKT5k5eLQ4J4AjrgWmon/wMDynWFKMmvhXEarPczIDYnqZRP1qz4bvWh5poPcVKDb6oH5ceq2L9LR9OtlQx3VsID131+jEPcL8SGdYsChQSBAruy0hADC+zf+09a710DKo/1PD1/8lIxUCh5V8YC50N/y1MeuWFjr0n6UAv1nBGdg/xfMAu9mQdGVJ6wIKcmB+LAy2dFW6MLOdVF2ObzwPDtxBpt2nPCyWv4ilX9/C3rVUTt5SGRxAdHfy2q2s3A6wrEJKqxbbYHhlsxONwxiorlzj3c7UJWbhsSl6rRK5bTrMQps48FSQI+adBD8/AsauoH4NzEzty491BaE7DnixexMr8G7Ztm5OV3YFfLX1C1k33N58Bw1xDu+V/1fK+pcShXHVCoW9qnM5qD5tEqpD1vOsZlREnWKTiP9mKwIAhzR+GEBwohQfekzOcr3vBs4cZpx4dWdruRZ0hlOw/KUUbULQz8flHJzyXMiOU+w/2GdfKgIQ+RGb+BWQ/aFq3x8I0Nw8Cf79sF9at0+zckISNfBVwbgmlaaluNRyb0XfZB9WEmkv+HvafxYM/WemC6wstuFEErFS1fzyhQiLwmO5BX3YSujh5Y/iG1PRhGQ6MBvs1a6MsyXnmTnyKrAocVZnQOrn75vGeUBRPSoE1PgJkNc7ApyEV1pozoHFWi8NPMl97TaD2gORQir3kPLOca0GRyAnx1KL9c+vNEqHWH8cn7KsQvueL15XzjTcg7YkV2f9fqiixND6Mqtw3ut5ORvLsEFVlK/0TuK+EL28rQaffBNeUQF7XFbU6CIjYNxztKpVvSMvMOGI5ko++dLvQWq1bwcyIPBQqJGK6rVcjrUqC5OxLKQPpgbclDuasIvacznrO1YP2hQCERxTNmhOU1DTLeCvPrr147hm/MQP2+esW9skhEgUIIkQ1NyhJCZEOBQgiRDQUKIUQ2FCiEENlQoBBCZEOBQgiRDQUKIUQ2FCiEENlQoBBCZEOBQgiRDQUKIUQ2FCiEENlQoBBCZEOBQgiRDQUKIUQ2FCiEENlQoBBCZEOBQgiRDQUKIUQ2FCiEEJkA/w8NX9vUeOuIJAAAAABJRU5ErkJggg==)"
      ],
      "metadata": {
        "id": "FVdqwfi_7x93"
      }
    },
    {
      "cell_type": "markdown",
      "source": [
        "In the example below, √3 is the root of f(x)=x2−3\n",
        "using x0=1.73 as a starting point. The equation above is used to compute and compare."
      ],
      "metadata": {
        "id": "mKxo4EOE8oIE"
      }
    },
    {
      "cell_type": "code",
      "source": [
        "import numpy as np\n",
        "\n",
        "f = lambda x: x**2 - 3\n",
        "f_prime = lambda x: 3*x\n",
        "newton_raphson = 1.73 - (f(1.73))/(f_prime(1.73))\n",
        "\n",
        "print(\"newton_raphson =\", newton_raphson)\n",
        "print(\"sqrt(3) =\", np.sqrt(3))"
      ],
      "metadata": {
        "colab": {
          "base_uri": "https://localhost:8080/"
        },
        "id": "RJuTQeEn9h12",
        "outputId": "68b4687d-0e9b-4994-a685-286911506830"
      },
      "execution_count": null,
      "outputs": [
        {
          "output_type": "stream",
          "name": "stdout",
          "text": [
            "newton_raphson = 1.731368015414258\n",
            "sqrt(3) = 1.7320508075688772\n"
          ]
        }
      ]
    },
    {
      "cell_type": "code",
      "source": [
        "##as we can see they are compared above!"
      ],
      "metadata": {
        "id": "4GI-Dfvp9p2O"
      },
      "execution_count": null,
      "outputs": []
    },
    {
      "cell_type": "markdown",
      "source": [
        "The function below gives the an estimation of the root of f, where f=function object f(x),df is a function object to f′(x),x0=initial guess, and tol is the error tolerance. The error measurement should be abs(f(x))."
      ],
      "metadata": {
        "id": "pAhR5V1G_ECh"
      }
    },
    {
      "cell_type": "code",
      "source": [
        "def my_newton(f, df, x0, tol):\n",
        "    if abs(f(x0)) < tol:\n",
        "        return x0\n",
        "    else:\n",
        "        return my_newton(f, df, x0 - f(x0)/df(x0), tol)\n",
        "###here we estimate sqrt 3 within a tolerance of 1e-5 at x0=1.8\n",
        "estimate = my_newton(f, f_prime, 1.8, 1e-5)\n",
        "print(\"estimate =\", estimate)\n",
        "print(\"sqrt(2) =\", np.sqrt(3))"
      ],
      "metadata": {
        "colab": {
          "base_uri": "https://localhost:8080/"
        },
        "id": "B0exfwe9_W89",
        "outputId": "83716868-df2a-48a4-8a89-9900e63e8b66"
      },
      "execution_count": null,
      "outputs": [
        {
          "output_type": "stream",
          "name": "stdout",
          "text": [
            "estimate = 1.7320520260420906\n",
            "sqrt(2) = 1.7320508075688772\n"
          ]
        }
      ]
    },
    {
      "cell_type": "code",
      "source": [
        "## 19.5 Root Finding in Python"
      ],
      "metadata": {
        "id": "CfkBrULS_roq"
      },
      "execution_count": null,
      "outputs": []
    },
    {
      "cell_type": "markdown",
      "source": [
        "The function f_solve in python takes the appropriate arguements in and computes the root!\n",
        "\n",
        "The example problem below is an illsutration of this"
      ],
      "metadata": {
        "id": "vxXzauWCAJHv"
      }
    },
    {
      "cell_type": "code",
      "source": [
        "##Computing the root of x^2 -12x+37 using fsolve function\n",
        "from scipy.optimize import fsolve\n",
        "f = lambda x: x**3 - 100*x**2 - x + 100\n",
        "fsolve(f, [2,80])"
      ],
      "metadata": {
        "colab": {
          "base_uri": "https://localhost:8080/"
        },
        "id": "kHlUb6fQ_wUB",
        "outputId": "95434603-d9e6-48c8-ed76-86725bad18b2"
      },
      "execution_count": null,
      "outputs": [
        {
          "output_type": "execute_result",
          "data": {
            "text/plain": [
              "array([  1., 100.])"
            ]
          },
          "metadata": {},
          "execution_count": 16
        }
      ]
    },
    {
      "cell_type": "code",
      "source": [],
      "metadata": {
        "id": "oTS8_nF7AaEW"
      },
      "execution_count": null,
      "outputs": []
    }
  ]
}