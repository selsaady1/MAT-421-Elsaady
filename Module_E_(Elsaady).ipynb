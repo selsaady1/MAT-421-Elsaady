{
  "nbformat": 4,
  "nbformat_minor": 0,
  "metadata": {
    "colab": {
      "provenance": [],
      "authorship_tag": "ABX9TyPZbim9eTSTQ55LHLH5055+",
      "include_colab_link": true
    },
    "kernelspec": {
      "name": "python3",
      "display_name": "Python 3"
    },
    "language_info": {
      "name": "python"
    }
  },
  "cells": [
    {
      "cell_type": "markdown",
      "metadata": {
        "id": "view-in-github",
        "colab_type": "text"
      },
      "source": [
        "<a href=\"https://colab.research.google.com/github/selsaady1/MAT-421-Elsaady/blob/main/Module_E_(Elsaady).ipynb\" target=\"_parent\"><img src=\"https://colab.research.google.com/assets/colab-badge.svg\" alt=\"Open In Colab\"/></a>"
      ]
    },
    {
      "cell_type": "code",
      "execution_count": null,
      "metadata": {
        "id": "lEZaTlmb5CEt"
      },
      "outputs": [],
      "source": [
        "## Module E, Differentiation and Optimization\n",
        "## Saif Elsaady\n",
        "## MAT 421, Febuary 19 2023"
      ]
    },
    {
      "cell_type": "code",
      "source": [
        "## 3.2 Continunity and Differentiation"
      ],
      "metadata": {
        "id": "f7To_ily5x1K"
      },
      "execution_count": null,
      "outputs": []
    },
    {
      "cell_type": "markdown",
      "source": [
        "Calculus and mathematical analysis are not possible without limits, which are also required to determine continuity, derivatives, as well as integrals. A continuous function is one without sudden changes in value, sometimes referred to as discontinuities. The derivative of a function of a real variable quantifies how responsive the function's value (or output value) is to changes in relation to other variables."
      ],
      "metadata": {
        "id": "Fcb2ATr5_VAz"
      }
    },
    {
      "cell_type": "markdown",
      "source": [
        "Data science tasks frequently require numerous independent variables. The chain rule is a method used in calculus to define the derivative of a function that includes two or more variational functions in terms of the derivatives of each individual function. The rate of change of a function along the direction is effectively measured by the directional derivative of a multivariate differentiable (scalar) function across a specified vector."
      ],
      "metadata": {
        "id": "AAgMAnh3a6xr"
      }
    },
    {
      "cell_type": "code",
      "source": [
        "from sympy import limit, oo, Symbol #importing library\n",
        "import numpy as np\n",
        "from sympy import *\n",
        "x = Symbol('x')\n",
        "y = 1/x + 1\n",
        "limit(y, x, oo) #computing the limit at x approaching infinity \n",
        "\n",
        "\n",
        "#computing mathmatically we can see that by solving\n",
        "\n",
        "#1/999999999 (this appraoches zero) and by default this is 1 so it will be 1"
      ],
      "metadata": {
        "colab": {
          "base_uri": "https://localhost:8080/",
          "height": 37
        },
        "id": "2xlapuHAAM9X",
        "outputId": "bd9af944-8374-433c-d0f7-56e44a1116c8"
      },
      "execution_count": null,
      "outputs": [
        {
          "output_type": "execute_result",
          "data": {
            "text/plain": [
              "1"
            ],
            "text/latex": "$\\displaystyle 1$"
          },
          "metadata": {},
          "execution_count": 3
        }
      ]
    },
    {
      "cell_type": "code",
      "source": [
        "x = Symbol('x')\n",
        "y = x**3\n",
        "yprime = y.diff(x)\n",
        "yprime # computing numerically with the power rule is 3x^2"
      ],
      "metadata": {
        "colab": {
          "base_uri": "https://localhost:8080/",
          "height": 38
        },
        "id": "az2rfeWhFpeh",
        "outputId": "f5c5d1d3-1740-47b0-f1d9-4fa472b6eeaf"
      },
      "execution_count": null,
      "outputs": [
        {
          "output_type": "execute_result",
          "data": {
            "text/plain": [
              "3*x**2"
            ],
            "text/latex": "$\\displaystyle 3 x^{2}$"
          },
          "metadata": {},
          "execution_count": 4
        }
      ]
    },
    {
      "cell_type": "code",
      "source": [
        "from sympy import symbols, sin, diff\n",
        "a, b, c = symbols('a b c', real=True)\n",
        "f = 7*a*b - a*sin(c) + a**3 + c ** 7*b\n",
        "print(diff(f, a)) # partial derivative with respect to a and it solves here to 3a^2 +7b - sinc"
      ],
      "metadata": {
        "colab": {
          "base_uri": "https://localhost:8080/"
        },
        "id": "J9itvRQYXahN",
        "outputId": "d8e185e9-30bb-45df-9aab-f51b49fbaa2d"
      },
      "execution_count": null,
      "outputs": [
        {
          "output_type": "stream",
          "name": "stdout",
          "text": [
            "3*a**2 + 7*b - sin(c)\n"
          ]
        }
      ]
    },
    {
      "cell_type": "code",
      "source": [
        "import sympy as sym\n",
        "#an example of the chain rule being utilized\n",
        "x = sym.Symbol('x')\n",
        "f = sym.cos(3*x)\n",
        "derivative = f.diff(x)\n",
        "derivative #being compute we see that in the chain rule the derivative of the inner is 3 times the derivative of the out -sinx"
      ],
      "metadata": {
        "colab": {
          "base_uri": "https://localhost:8080/",
          "height": 38
        },
        "id": "EeqJsj2KY0iu",
        "outputId": "ca50f6fc-e1d5-4525-ca2e-e4738ed7c404"
      },
      "execution_count": null,
      "outputs": [
        {
          "output_type": "execute_result",
          "data": {
            "text/plain": [
              "-3*sin(3*x)"
            ],
            "text/latex": "$\\displaystyle - 3 \\sin{\\left(3 x \\right)}$"
          },
          "metadata": {},
          "execution_count": 9
        }
      ]
    },
    {
      "cell_type": "code",
      "source": [
        "## 3.3 Unconstrained Optimization"
      ],
      "metadata": {
        "id": "8p31uoGu5zC3"
      },
      "execution_count": null,
      "outputs": []
    },
    {
      "cell_type": "markdown",
      "source": [
        "If the line segment connecting any 2 points on the function's graph sits above graph here between two points, the function is said to be convex. Only local minimizers have been a worry of our optimality criteria. Local information does exist in the exclusion of global structure.\n",
        "\n",
        "Let f: Rd->R be constantly differentiable on Rd as a first-order necessary condition. f(x0) = 0 if x0 is a local minimizer.\n",
        "\n",
        "Let f: Rd->R be twice continuously differentiable on Rd as the second-order necessary condition. H f(x0) is PSD if and only if x0 is a local minimizer.\n",
        "\n",
        "Let f: Rd->R be twice continuously differentiable on Rd to satisfy the second-order sufficient condition. If H f(x0) is + definite and f(x0) = 0, then x0 is a strict local minimizer.\n",
        "\n",
        "Let f be the global minimizer: Rd->R. If f(x) f(x*) and x Rd, then the point x* Rd is a global minimizer of f over Rd.\n",
        "\n",
        "Let f: R d -> R for the local minimizer. If > 0 exists such that f(x) f(x), x B(x), and x* are local minimizers of f over Rd, then the point x* Rd is one of them.\n",
        "\n",
        "Let f: Rd -> R be continually differentiable at x0 for the purpose of determining the direction of descent as well as directional derivatives. If (f(x)/(v)) = f(x0)T v 0 and the directional derivative of f at x0 in the direction v is negative, the vector v represents a descent direction for f at x0.\n",
        "\n"
      ],
      "metadata": {
        "id": "j_ZGBpqveDOP"
      }
    },
    {
      "cell_type": "markdown",
      "source": [
        "First-Order Convexity Condition: Allow for continuous differentiability of f: Rd -> R. If and only if for every x, y Rd, f(y) f(x) + f(x)T, then f is convex (y-x). Allow f: Rd -> R to be twice continuously differentiable as the second-order convexity condition. If and only if H f(x) is PSD for all values of x Rd, then f is convex.\n",
        "\n",
        "Let f:Rd -> R be a convex function. Global Minimizers of Convex Functions. When that happens, any local minimizer of f also becomes a global minimizer.\n",
        "\n",
        "\n",
        "Let f: Rd -> R be continuously differentiable at x0 for the steepest descent. (f(x0)/(v)) (f(x0)/(v*)) for every unit vector v Rd.\n",
        "\n",
        "\n",
        "A set D R d is convex if and only if for every x, y D and all [0,1]. (1 - α)x + αy ∈ D.\n",
        "\n",
        "A function called a convex function is f:Rd-> For every x, y, D, and all [0, 1], R is convex: f((1 - x + y)) = (1 - x + y)f(x) + f (y).\n",
        "\n",
        "Let w R d and b R to demonstrate that affine functions are convex. Convexity describes the function f(x) = wT x+b."
      ],
      "metadata": {
        "id": "yCA10sndg1ey"
      }
    },
    {
      "cell_type": "code",
      "source": [
        "import numpy as np\n",
        "import matplotlib.pyplot as plt\n",
        "plt.style.use('seaborn-poster')\n",
        "\n",
        "x = np.linspace(0,8)\n",
        "y = x**2\n",
        "\n",
        "x1 = np.linspace(0,6)\n",
        "y1 = x*4.5\n",
        "\n",
        "plt.plot(x, y,'b',x1,y1,'r')\n",
        "plt.grid()\n",
        "plt.xlabel('x')\n",
        "plt.ylabel('y')\n",
        "plt.legend()\n",
        "plt.show()"
      ],
      "metadata": {
        "colab": {
          "base_uri": "https://localhost:8080/",
          "height": 578
        },
        "id": "ffYxuPf8eClb",
        "outputId": "bfd99ea2-35ca-486a-dc93-5203e6e08306"
      },
      "execution_count": null,
      "outputs": [
        {
          "output_type": "stream",
          "name": "stderr",
          "text": [
            "WARNING:matplotlib.legend:No handles with labels found to put in legend.\n"
          ]
        },
        {
          "output_type": "display_data",
          "data": {
            "text/plain": [
              "<Figure size 921.6x633.6 with 1 Axes>"
            ],
            "image/png": "[encoded data removed]"
          },
          "metadata": {
            "needs_background": "light"
          }
        }
      ]
    }
  ]
}